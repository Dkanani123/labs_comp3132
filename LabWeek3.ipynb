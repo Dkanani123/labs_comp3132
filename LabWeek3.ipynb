{
  "cells": [
    {
      "cell_type": "markdown",
      "metadata": {
        "id": "nDnqzTg8PEvr"
      },
      "source": [
        "# Lab Week 3: The mathematical building blocks of neural networks"
      ]
    },
    {
      "cell_type": "markdown",
      "metadata": {
        "id": "YEge0pcbOiiV"
      },
      "source": [
        "This lab is based on the materials of the second chapter the course text book [Deep Learning with Python, Second Edition](https://www.manning.com/books/deep-learning-with-python-second-edition?a_aid=keras&a_bid=76564dff) (See D2l -> Course Information -> Text Book.)"
      ]
    },
    {
      "cell_type": "markdown",
      "metadata": {
        "id": "v-sXL1loQE5M"
      },
      "source": [
        "# Imports"
      ]
    },
    {
      "cell_type": "code",
      "execution_count": null,
      "metadata": {
        "id": "_s8XixgsQFQG"
      },
      "outputs": [],
      "source": [
        "import numpy as np\n",
        "import matplotlib.pyplot as plt\n",
        "import seaborn as sns"
      ]
    },
    {
      "cell_type": "markdown",
      "metadata": {
        "id": "ZgkrwcVVOiiY"
      },
      "source": [
        "# Loading the MNIST dataset in Keras"
      ]
    },
    {
      "cell_type": "code",
      "execution_count": null,
      "metadata": {
        "colab": {
          "base_uri": "https://localhost:8080/"
        },
        "id": "ff8ToQGiOiiZ",
        "outputId": "4ed042da-3544-4403-8583-20eb2b5c26f6"
      },
      "outputs": [
        {
          "name": "stdout",
          "output_type": "stream",
          "text": [
            "Downloading data from https://storage.googleapis.com/tensorflow/tf-keras-datasets/mnist.npz\n",
            "\u001b[1m11490434/11490434\u001b[0m \u001b[32m━━━━━━━━━━━━━━━━━━━━\u001b[0m\u001b[37m\u001b[0m \u001b[1m0s\u001b[0m 0us/step\n"
          ]
        }
      ],
      "source": [
        "from tensorflow.keras.datasets import mnist\n",
        "(train_images_orig, train_labels), (test_images_orig, test_labels) = mnist.load_data()"
      ]
    },
    {
      "cell_type": "code",
      "execution_count": null,
      "metadata": {
        "colab": {
          "base_uri": "https://localhost:8080/"
        },
        "id": "c3HfBsoAOiiZ",
        "outputId": "bc2b0aee-44c2-4e8c-c2f2-6955525e9d07"
      },
      "outputs": [
        {
          "data": {
            "text/plain": [
              "(60000, 28, 28)"
            ]
          },
          "execution_count": 3,
          "metadata": {},
          "output_type": "execute_result"
        }
      ],
      "source": [
        "train_images_orig.shape # the shape is (b, w, h)"
      ]
    },
    {
      "cell_type": "code",
      "execution_count": null,
      "metadata": {
        "colab": {
          "base_uri": "https://localhost:8080/"
        },
        "id": "zL8NazN2tw1i",
        "outputId": "75bb8993-5100-4ec8-e680-c1370c368efa"
      },
      "outputs": [
        {
          "data": {
            "text/plain": [
              "3"
            ]
          },
          "execution_count": 4,
          "metadata": {},
          "output_type": "execute_result"
        }
      ],
      "source": [
        "train_images_orig.ndim"
      ]
    },
    {
      "cell_type": "markdown",
      "metadata": {
        "id": "eb7ucsx5YZXK"
      },
      "source": [
        "## The shape of image data\n",
        "\n",
        "**Note:** For black-and-white images, the number of channels equals 1, so it is not explicitly mentioned in the data.\n",
        "\n",
        "- color images shape: (samples_n, channel_n, hight, width)\n",
        "- gray images shape: (sample_n, hight, width)\n",
        "\n",
        "\n",
        "![](https://raw.githubusercontent.com/PyDataGBC/PyML2025/refs/heads/main/LabWeek3/assets/image_data.png)"
      ]
    },
    {
      "cell_type": "markdown",
      "metadata": {
        "id": "1wwMR95md_S1"
      },
      "source": [
        "## Exploring the dataset"
      ]
    },
    {
      "cell_type": "code",
      "execution_count": null,
      "metadata": {
        "colab": {
          "base_uri": "https://localhost:8080/",
          "height": 1000
        },
        "id": "XsnT7peEPdll",
        "outputId": "b71373e2-c650-4152-d70f-df942d82aa21"
      },
      "outputs": [
        {
          "name": "stdout",
          "output_type": "stream",
          "text": [
            "sample image shape:  (28, 28)\n",
            "sample image data type:  <class 'numpy.ndarray'>\n",
            "====================================================================================================\n",
            "printing the numerical value of a sample image\n",
            "[[  0   0   0   0   0   0   0   0   0   0   0   0   0   0   0   0   0   0\n",
            "    0   0   0   0   0   0   0   0   0   0]\n",
            " [  0   0   0   0   0   0   0   0   0   0   0   0   0   0   0   0   0   0\n",
            "    0   0   0   0   0   0   0   0   0   0]\n",
            " [  0   0   0   0   0   0   0   0   0   0   0   0   0   0   0   0   0   0\n",
            "    0   0   0   0   0   0   0   0   0   0]\n",
            " [  0   0   0   0   0   0   0   0   0   0   0   0   0  15 139 174 253 254\n",
            "  218 139  14   0   0   0   0   0   0   0]\n",
            " [  0   0   0   0   0   0   0   0   0   0   0   0 103 211 252 252 217 168\n",
            "  168 246 184  14   0   0   0   0   0   0]\n",
            " [  0   0   0   0   0   0   0   0   0   0   0 150 253 252 180 100  12   0\n",
            "    0 135 252  95   0   0   0   0   0   0]\n",
            " [  0   0   0   0   0   0   0   0   0   0   0 140 253 169   7   0   0   0\n",
            "    0 197 252 121   0   0   0   0   0   0]\n",
            " [  0   0   0   0   0   0   0   0   0   0   0  18 147  37   0   0   0   0\n",
            "  159 249 226  24   0   0   0   0   0   0]\n",
            " [  0   0   0   0   0   0   0   0   0   0   0   0   0   0   0  11  43 210\n",
            "  253 232 115   0   0   0   0   0   0   0]\n",
            " [  0   0   0   0   0   0   0   0   0   0   0   0   0  29 137 206 252 253\n",
            "  252 126   0   0   0   0   0   0   0   0]\n",
            " [  0   0   0   0   0   0   0   0   0   0   0   0   0 182 252 252 252 241\n",
            "  247 189  42   0   0   0   0   0   0   0]\n",
            " [  0   0   0   0   0   0   0   0   0   0   0   0   0 190 252 252 199  35\n",
            "   99 247 154   0   0   0   0   0   0   0]\n",
            " [  0   0   0   0   0   0   0   0   0   0   0   0   0 111 191 121   7   0\n",
            "    0 232 242  35   0   0   0   0   0   0]\n",
            " [  0   0   0   0   0   0   0   0   0   0   0   0   0   0   0   0   0   0\n",
            "    0 233 253 104   0   0   0   0   0   0]\n",
            " [  0   0   0   0   0   0   0   0   0   0   0   0   0   0   0   0   0   0\n",
            "    0 232 252 112   0   0   0   0   0   0]\n",
            " [  0   0   0   0   0   0   0   0   0   0   0   0   0   0   0   0   9  66\n",
            "  136 251 252  95   0   0   0   0   0   0]\n",
            " [  0   0 100 169 160  48   0   0   0   0   0   0   0   0   0   0 132 253\n",
            "  252 252 236  66   0   0   0   0   0   0]\n",
            " [  0   0 104 252 252 242 124   0   0   0   0   0   0   0  98 176 246 253\n",
            "  252 252 145   0   0   0   0   0   0   0]\n",
            " [  0   0   0 191 253 253 209  18   0   0   0   0   0  32 192 253 253 255\n",
            "  253 152   0   0   0   0   0   0   0   0]\n",
            " [  0   0   0  83 246 252 252 217 111  43  22  85 146 237 252 252 252 253\n",
            "  153   5   0   0   0   0   0   0   0   0]\n",
            " [  0   0   0   0  72 152 249 253 252 242 237 252 253 252 252 247 231  65\n",
            "    5   0   0   0   0   0   0   0   0   0]\n",
            " [  0   0   0   0   0   0  70 253 252 252 252 252 253 252 221 141   0   0\n",
            "    0   0   0   0   0   0   0   0   0   0]\n",
            " [  0   0   0   0   0   0   0  42 121 244 252 252 209 173  29   0   0   0\n",
            "    0   0   0   0   0   0   0   0   0   0]\n",
            " [  0   0   0   0   0   0   0   0   0   0   0   0   0   0   0   0   0   0\n",
            "    0   0   0   0   0   0   0   0   0   0]\n",
            " [  0   0   0   0   0   0   0   0   0   0   0   0   0   0   0   0   0   0\n",
            "    0   0   0   0   0   0   0   0   0   0]\n",
            " [  0   0   0   0   0   0   0   0   0   0   0   0   0   0   0   0   0   0\n",
            "    0   0   0   0   0   0   0   0   0   0]\n",
            " [  0   0   0   0   0   0   0   0   0   0   0   0   0   0   0   0   0   0\n",
            "    0   0   0   0   0   0   0   0   0   0]\n",
            " [  0   0   0   0   0   0   0   0   0   0   0   0   0   0   0   0   0   0\n",
            "    0   0   0   0   0   0   0   0   0   0]]\n",
            "====================================================================================================\n",
            "0  0  0  0  0  0  0  0  0  0  0  0  0  0  0  0  0  0  0  0  0  0  0  0  0  0  0  0  \n",
            "0  0  0  0  0  0  0  0  0  0  0  0  0  0  0  0  0  0  0  0  0  0  0  0  0  0  0  0  \n",
            "0  0  0  0  0  0  0  0  0  0  0  0  0  0  0  0  0  0  0  0  0  0  0  0  0  0  0  0  \n",
            "0  0  0  0  0  0  0  0  0  0  0  0  0  15 13917425325421813914 0  0  0  0  0  0  0  \n",
            "0  0  0  0  0  0  0  0  0  0  0  0  10321125225221716816824618414 0  0  0  0  0  0  \n",
            "0  0  0  0  0  0  0  0  0  0  0  15025325218010012 0  0  13525295 0  0  0  0  0  0  \n",
            "0  0  0  0  0  0  0  0  0  0  0  1402531697  0  0  0  0  1972521210  0  0  0  0  0  \n",
            "0  0  0  0  0  0  0  0  0  0  0  18 14737 0  0  0  0  15924922624 0  0  0  0  0  0  \n",
            "0  0  0  0  0  0  0  0  0  0  0  0  0  0  0  11 43 2102532321150  0  0  0  0  0  0  \n",
            "0  0  0  0  0  0  0  0  0  0  0  0  0  29 1372062522532521260  0  0  0  0  0  0  0  \n",
            "0  0  0  0  0  0  0  0  0  0  0  0  0  18225225225224124718942 0  0  0  0  0  0  0  \n",
            "0  0  0  0  0  0  0  0  0  0  0  0  0  19025225219935 99 2471540  0  0  0  0  0  0  \n",
            "0  0  0  0  0  0  0  0  0  0  0  0  0  1111911217  0  0  23224235 0  0  0  0  0  0  \n",
            "0  0  0  0  0  0  0  0  0  0  0  0  0  0  0  0  0  0  0  2332531040  0  0  0  0  0  \n",
            "0  0  0  0  0  0  0  0  0  0  0  0  0  0  0  0  0  0  0  2322521120  0  0  0  0  0  \n",
            "0  0  0  0  0  0  0  0  0  0  0  0  0  0  0  0  9  66 13625125295 0  0  0  0  0  0  \n",
            "0  0  10016916048 0  0  0  0  0  0  0  0  0  0  13225325225223666 0  0  0  0  0  0  \n",
            "0  0  1042522522421240  0  0  0  0  0  0  98 1762462532522521450  0  0  0  0  0  0  \n",
            "0  0  0  19125325320918 0  0  0  0  0  32 1922532532552531520  0  0  0  0  0  0  0  \n",
            "0  0  0  83 24625225221711143 22 85 1462372522522522531535  0  0  0  0  0  0  0  0  \n",
            "0  0  0  0  72 15224925325224223725225325225224723165 5  0  0  0  0  0  0  0  0  0  \n",
            "0  0  0  0  0  0  70 2532522522522522532522211410  0  0  0  0  0  0  0  0  0  0  0  \n",
            "0  0  0  0  0  0  0  42 12124425225220917329 0  0  0  0  0  0  0  0  0  0  0  0  0  \n",
            "0  0  0  0  0  0  0  0  0  0  0  0  0  0  0  0  0  0  0  0  0  0  0  0  0  0  0  0  \n",
            "0  0  0  0  0  0  0  0  0  0  0  0  0  0  0  0  0  0  0  0  0  0  0  0  0  0  0  0  \n",
            "0  0  0  0  0  0  0  0  0  0  0  0  0  0  0  0  0  0  0  0  0  0  0  0  0  0  0  0  \n",
            "0  0  0  0  0  0  0  0  0  0  0  0  0  0  0  0  0  0  0  0  0  0  0  0  0  0  0  0  \n",
            "0  0  0  0  0  0  0  0  0  0  0  0  0  0  0  0  0  0  0  0  0  0  0  0  0  0  0  0  \n",
            "====================================================================================================\n"
          ]
        },
        {
          "data": {
            "image/png": "[encoded data removed]",
            "text/plain": [
              "<Figure size 640x480 with 1 Axes>"
            ]
          },
          "metadata": {},
          "output_type": "display_data"
        }
      ],
      "source": [
        "# Note: run this cell multiple times\n",
        "index = np.random.randint(0, 60000)\n",
        "sample_image = train_images_orig[index]\n",
        "\n",
        "print(\"sample image shape: \", sample_image.shape)\n",
        "print(\"sample image data type: \", type(sample_image))\n",
        "\n",
        "print(\"=\" * 100)\n",
        "print(\"printing the numerical value of a sample image\")\n",
        "print(sample_image)\n",
        "\n",
        "# aligning the pixel values in the output\n",
        "print(\"=\" * 100)\n",
        "for row in sample_image:\n",
        "  print(\"\".join([str(elem).ljust(3) for elem in row]))\n",
        "\n",
        "print(\"=\" * 100)\n",
        "plt.imshow(sample_image, cmap=\"gray\")\n",
        "plt.show()\n"
      ]
    },
    {
      "cell_type": "code",
      "execution_count": null,
      "metadata": {
        "colab": {
          "base_uri": "https://localhost:8080/"
        },
        "id": "85wgjeiNOiia",
        "outputId": "dcd3c220-14a4-4598-f8ec-feceb9da1460"
      },
      "outputs": [
        {
          "data": {
            "text/plain": [
              "60000"
            ]
          },
          "execution_count": 6,
          "metadata": {},
          "output_type": "execute_result"
        }
      ],
      "source": [
        "len(train_labels)"
      ]
    },
    {
      "cell_type": "code",
      "execution_count": null,
      "metadata": {
        "colab": {
          "base_uri": "https://localhost:8080/"
        },
        "id": "3IHiFiByOiia",
        "outputId": "85e7f154-19bf-4a70-b0ca-aa57d94bf192"
      },
      "outputs": [
        {
          "data": {
            "text/plain": [
              "array([5, 0, 4, ..., 5, 6, 8], dtype=uint8)"
            ]
          },
          "execution_count": 7,
          "metadata": {},
          "output_type": "execute_result"
        }
      ],
      "source": [
        "train_labels"
      ]
    },
    {
      "cell_type": "code",
      "execution_count": null,
      "metadata": {
        "colab": {
          "base_uri": "https://localhost:8080/"
        },
        "id": "DAsd0NdKOiia",
        "outputId": "b4a07758-cc3a-446e-f9dd-3a2179881123"
      },
      "outputs": [
        {
          "data": {
            "text/plain": [
              "(10000, 28, 28)"
            ]
          },
          "execution_count": 8,
          "metadata": {},
          "output_type": "execute_result"
        }
      ],
      "source": [
        "test_images_orig.shape"
      ]
    },
    {
      "cell_type": "code",
      "execution_count": null,
      "metadata": {
        "colab": {
          "base_uri": "https://localhost:8080/"
        },
        "id": "QO4S5qBZOiia",
        "outputId": "78024664-0213-4495-8739-5f1866ab1603"
      },
      "outputs": [
        {
          "data": {
            "text/plain": [
              "10000"
            ]
          },
          "execution_count": 9,
          "metadata": {},
          "output_type": "execute_result"
        }
      ],
      "source": [
        "len(test_labels)"
      ]
    },
    {
      "cell_type": "code",
      "execution_count": null,
      "metadata": {
        "colab": {
          "base_uri": "https://localhost:8080/"
        },
        "id": "wJXBxQrWOiib",
        "outputId": "df64ada5-def7-4ba2-ed2f-f9f8484693c0"
      },
      "outputs": [
        {
          "data": {
            "text/plain": [
              "array([7, 2, 1, ..., 4, 5, 6], dtype=uint8)"
            ]
          },
          "execution_count": 10,
          "metadata": {},
          "output_type": "execute_result"
        }
      ],
      "source": [
        "test_labels"
      ]
    },
    {
      "cell_type": "markdown",
      "metadata": {
        "id": "9WvoQhXMA1db"
      },
      "source": [
        "### **Exercise 1:** Display the fourth image in the `test set` with its label."
      ]
    },
    {
      "cell_type": "code",
      "execution_count": null,
      "metadata": {
        "id": "6o0gVaAFA01Y"
      },
      "outputs": [],
      "source": [
        "# Extract the fourth image and its corresponding label from the test set\n",
        "index = 3  # Python is 0-indexed, so the fourth image is at index 3\n",
        "image = test_images_orig[index]\n",
        "label = test_labels[index]\n",
        "\n",
        "# Display the image\n",
        "plt.imshow(image, cmap=\"gray\")\n",
        "plt.title(f\"Label: {label}\")  # Show the label as the title\n",
        "plt.show()\n"
      ]
    },
    {
      "cell_type": "markdown",
      "metadata": {
        "id": "yw3gwShVfieT"
      },
      "source": [
        "# A first look at a neural network"
      ]
    },
    {
      "cell_type": "markdown",
      "metadata": {
        "id": "1lRD_ACCOiib"
      },
      "source": [
        "## **Step 1:** The network architecture"
      ]
    },
    {
      "cell_type": "code",
      "execution_count": null,
      "metadata": {
        "id": "msh9I3NHOiib"
      },
      "outputs": [],
      "source": [
        "from tensorflow import keras\n",
        "from tensorflow.keras import layers\n",
        "model = keras.Sequential([\n",
        "    layers.Dense(512, activation=\"relu\"),\n",
        "    layers.Dense(10, activation=\"softmax\")\n",
        "])"
      ]
    },
    {
      "cell_type": "markdown",
      "metadata": {
        "id": "U-Cul184liV5"
      },
      "source": [
        "<img src=\"https://raw.githubusercontent.com/PyDataGBC/PyML2025/refs/heads/main/LabWeek3/assets/architecture.png\" width=\"1000\" height=\"400\">"
      ]
    },
    {
      "cell_type": "markdown",
      "metadata": {
        "id": "gHueYzDVOiib"
      },
      "source": [
        "### **Input layer** - Preparing the image data\n",
        "\n",
        "**Note: The nodes in the `Input layer` are not neurons. They are pixel values.**"
      ]
    },
    {
      "cell_type": "code",
      "execution_count": null,
      "metadata": {
        "id": "xT2ryOvuOiib"
      },
      "outputs": [],
      "source": [
        "train_images = train_images_orig.reshape((60000, 28 * 28))\n",
        "train_images = train_images.astype(\"float32\") / 255\n",
        "\n",
        "test_images= test_images_orig.reshape((10000, 28 * 28))\n",
        "test_images = test_images.astype(\"float32\") / 255"
      ]
    },
    {
      "cell_type": "markdown",
      "metadata": {
        "id": "5eDL43SvmPQd"
      },
      "source": [
        "### **Exercise 2:** What is the shape of data after preprocessing"
      ]
    },
    {
      "cell_type": "code",
      "execution_count": null,
      "metadata": {
        "id": "2ixny62KmeBM"
      },
      "outputs": [],
      "source": [
        "train_images.shape = (60000, 784)\n",
        "test_images.shape = (10000, 784)"
      ]
    },
    {
      "cell_type": "markdown",
      "metadata": {
        "id": "KOOBszTfOiil"
      },
      "source": [
        "### Tensor reshaping"
      ]
    },
    {
      "cell_type": "code",
      "execution_count": null,
      "metadata": {
        "colab": {
          "base_uri": "https://localhost:8080/"
        },
        "id": "FxXrOEwTOiil",
        "outputId": "8214f881-6b71-43e0-83b2-63cccef3afc4"
      },
      "outputs": [
        {
          "data": {
            "text/plain": [
              "(3, 2)"
            ]
          },
          "execution_count": 16,
          "metadata": {},
          "output_type": "execute_result"
        }
      ],
      "source": [
        "a = np.array([[0., 1.],\n",
        "             [2., 3.],\n",
        "             [4., 5.]])\n",
        "a.shape"
      ]
    },
    {
      "cell_type": "markdown",
      "metadata": {
        "id": "AHR8KC7hBOcE"
      },
      "source": [
        "### **Exercise 3:** reshape the `a` matrix to 6 x 1 matrix."
      ]
    },
    {
      "cell_type": "code",
      "execution_count": null,
      "metadata": {
        "id": "SGJxUrlmBXf6"
      },
      "outputs": [],
      "source": [
        "import numpy as np\n",
        "\n",
        "# Define the matrix 'a'\n",
        "a = np.array([[0., 1.],\n",
        "              [2., 3.],\n",
        "              [4., 5.]])\n",
        "\n",
        "# Reshape 'a' to a 6x1 matrix\n",
        "reshaped_a = a.reshape((6, 1))\n",
        "\n",
        "# Print the reshaped matrix\n",
        "print(\"Reshaped matrix:\")\n",
        "print(reshaped_a)\n"
      ]
    },
    {
      "cell_type": "markdown",
      "metadata": {
        "id": "3eQ4EGfsm4Z6"
      },
      "source": [
        "### **Hidden layer** with `relu` activation function\n",
        "\n",
        "Each neuron in the hidden layer, as illustrated in the figure below, comprises two main components: the summation function and the activation function.\n",
        "\n",
        "In our architecture, we have 512 neurons in the hidden layer."
      ]
    },
    {
      "cell_type": "markdown",
      "metadata": {
        "id": "dOWdc9SdsTiV"
      },
      "source": [
        "<img src=https://raw.githubusercontent.com/PyDataGBC/PyML2025/refs/heads/main/LabWeek3/assets/relu.webp with=\"500\" height=\"300\">"
      ]
    },
    {
      "cell_type": "markdown",
      "metadata": {
        "id": "FynF-azXmJZQ"
      },
      "source": [
        "**The preferred activation function for hidden layers is `relu`. The mathematical function of ReLU is as follows:**\n",
        "\n",
        "$$\n",
        "relu(x) = max(0, x)\n",
        "$$\n",
        "\n",
        "> **Note: ReLU is considered as one of the biggest breakthroughs in deep learning because ReLU makes it possible to train a very deep neural network. It has solved the `vanishing gradient` challenge in `deep` networks with many hidden layers.**\n"
      ]
    },
    {
      "cell_type": "markdown",
      "metadata": {
        "id": "qIQfdpVQwKaS"
      },
      "source": [
        "### **Exercise 4** Write a function that takes a number/array `x` and returns `relu(x)`. Use the `np.maximum()` method in your function. Then, plot this function for x in the range of -5 to 5."
      ]
    },
    {
      "cell_type": "code",
      "execution_count": 2,
      "metadata": {
        "id": "tAnajbFMzKEt",
        "outputId": "323abb90-35c1-49e6-b72c-4231a536ebd8",
        "colab": {
          "base_uri": "https://localhost:8080/",
          "height": 472
        }
      },
      "outputs": [
        {
          "output_type": "display_data",
          "data": {
            "text/plain": [
              "<Figure size 640x480 with 1 Axes>"
            ],
            "image/png": "[encoded data removed]"
          },
          "metadata": {}
        }
      ],
      "source": [
        "import numpy as np\n",
        "import matplotlib.pyplot as plt\n",
        "\n",
        "# Define the ReLU function\n",
        "def relu(x):\n",
        "    return np.maximum(0, x)\n",
        "\n",
        "# Generate values for x from -5 to 5\n",
        "x_values = np.linspace(-5, 5, 100)\n",
        "\n",
        "# Apply the ReLU function on x_values\n",
        "y_values = relu(x_values)\n",
        "\n",
        "# Plot the function\n",
        "plt.plot(x_values, y_values)\n",
        "plt.title(\"ReLU Activation Function\")\n",
        "plt.xlabel(\"x\")\n",
        "plt.ylabel(\"ReLU(x)\")\n",
        "plt.grid(True)\n",
        "plt.show()\n",
        "\n",
        "def relu(x):\n",
        "  return ..."
      ]
    },
    {
      "cell_type": "code",
      "execution_count": 1,
      "metadata": {
        "id": "OnXGVCwdwKAj"
      },
      "outputs": [],
      "source": [
        "# my solution output"
      ]
    },
    {
      "cell_type": "markdown",
      "metadata": {
        "id": "4xsf9JbagkBz"
      },
      "source": [
        "### **Ecercise 5:** Suppose that I have 5 neurons in my hidden layer. After the summation stage, the result of this layer is `[-10, 5, 0, -2, 6]`. What is the result after passing this through the ReLU activation function?"
      ]
    },
    {
      "cell_type": "markdown",
      "metadata": {
        "id": "1Ieyv8v3gkBz"
      },
      "source": [
        "![](https://raw.githubusercontent.com/PyDataGBC/PyML2025/refs/heads/main/LabWeek3/assets/pass-relu.png)"
      ]
    },
    {
      "cell_type": "markdown",
      "metadata": {
        "id": "FRMwOuMtgkBz"
      },
      "source": [
        "your answer here:"
      ]
    },
    {
      "cell_type": "markdown",
      "metadata": {
        "id": "bTTW3sVa0xZz"
      },
      "source": [
        "### **Output layer** - `Sigmoid` and `Softmax` activation function"
      ]
    },
    {
      "cell_type": "markdown",
      "metadata": {
        "id": "LBpOEjCNzRiR"
      },
      "source": [
        "Each neuron in the last layer of the neural network should output a number between 0 and 1 because each neuron represents the probability of the input belonging to a specific class.\n",
        "\n",
        "**Important Note:** The values of the neurons in the last layer before applying the activation function are called `logits` or `scores`.\n",
        "\n",
        "One way to achieve this is by using the sigmoid activation function.\n",
        "\n",
        "The sigmoid function takes an input\n",
        "`x` and outputs a number between 0 and 1.\n",
        "\n",
        "$$\n",
        "\\sigma(x) = \\frac{1}{1 + e^{-x}}\n",
        "$$"
      ]
    },
    {
      "cell_type": "code",
      "execution_count": null,
      "metadata": {
        "colab": {
          "base_uri": "https://localhost:8080/",
          "height": 430
        },
        "id": "fl7icdWsc86A",
        "outputId": "09ec5180-0b27-4f5d-f186-15bdb72c606a"
      },
      "outputs": [
        {
          "data": {
            "image/png": "[encoded data removed]",
            "text/plain": [
              "<Figure size 640x480 with 1 Axes>"
            ]
          },
          "metadata": {},
          "output_type": "display_data"
        }
      ],
      "source": [
        "def sigmoid(x):\n",
        "    return 1 / (1 + np.exp(-x))\n",
        "\n",
        "x = np.linspace(-10, 10, 100)\n",
        "y = sigmoid(x)\n",
        "\n",
        "plt.plot(x, y)\n",
        "plt.grid()\n",
        "plt.show()"
      ]
    },
    {
      "cell_type": "markdown",
      "metadata": {
        "id": "zJePFKxXdKBm"
      },
      "source": [
        "### **Exercise 6:** Using the sigmoid function defined in the previous cell, suppose the last layer of a neural network has 4 neurons with the following values: [3.2, 1.3, 0.2, 0.8].\n",
        "  - Apply the sigmoid function to these values to map them to numbers between 0 and 1.\n",
        "  - Then, generate a bar plot of the scaled values.\n",
        "\n",
        "![](https://raw.githubusercontent.com/PyDataGBC/PyML2025/refs/heads/main/LabWeek3/assets/pass-sigmoid.png)"
      ]
    },
    {
      "cell_type": "code",
      "execution_count": null,
      "metadata": {
        "id": "yu6voXKUefdh"
      },
      "outputs": [],
      "source": [
        "import numpy as np\n",
        "import matplotlib.pyplot as plt\n",
        "\n",
        "# Given logits from the last layer of the neural network\n",
        "logits = np.array([3.2, 1.3, 0.2, 0.8])\n",
        "\n",
        "# Apply the sigmoid function to the logits\n",
        "logits_scaled = 1 / (1 + np.exp(-logits))\n",
        "\n",
        "# Plot the scaled values\n",
        "plt.bar(np.arange(len(logits_scaled)), logits_scaled, color='skyblue')\n",
        "plt.xticks(np.arange(4), ['Neuron 1', 'Neuron 2', 'Neuron 3', 'Neuron 4'])\n",
        "plt.xlabel('Neurons')\n",
        "plt.ylabel('Scaled Output (Sigmoid)')\n",
        "plt.title('Sigmoid Activation of Logits')\n",
        "plt.show()"
      ]
    },
    {
      "cell_type": "code",
      "execution_count": null,
      "metadata": {
        "colab": {
          "base_uri": "https://localhost:8080/",
          "height": 450
        },
        "id": "1ZWmslI7emNy",
        "outputId": "45279747-b373-4b2d-ab7a-eadfd676c754"
      },
      "outputs": [
        {
          "name": "stdout",
          "output_type": "stream",
          "text": [
            "[0.96083428 0.78583498 0.549834   0.68997448]\n"
          ]
        },
        {
          "data": {
            "image/png": "[encoded data removed]",
            "text/plain": [
              "<Figure size 640x480 with 1 Axes>"
            ]
          },
          "metadata": {},
          "output_type": "display_data"
        }
      ],
      "source": [
        "sigmoid\n",
        "(\n",
        "3.2\n",
        ")\n",
        "≈\n",
        "0.9608\n",
        "sigmoid(3.2)≈0.9608\n",
        "sigmoid\n",
        "(\n",
        "1.3\n",
        ")\n",
        "≈\n",
        "0.7858\n",
        "sigmoid(1.3)≈0.7858\n",
        "sigmoid\n",
        "(\n",
        "0.2\n",
        ")\n",
        "≈\n",
        "0.5498\n",
        "sigmoid(0.2)≈0.5498\n",
        "sigmoid\n",
        "(\n",
        "0.8\n",
        ")\n",
        "≈\n",
        "0.6899\n",
        "sigmoid(0.8)≈0.6899"
      ]
    },
    {
      "cell_type": "markdown",
      "metadata": {
        "id": "RaVOBNzLhz3R"
      },
      "source": [
        "This plot shows the probability distribution over labels. However, there is an issue here: with the sigmoid function, each output is independent and bounded between 0 and 1, but their sum is not constrained to equal 1. To address this, we use the softmax function, which normalizes the outputs so that they sum to 1, ensuring a valid probability distribution over the labels.\n",
        "\n",
        "\n",
        "$$\n",
        "\\text{softmax}(x_i) = \\frac{e^{x_i}}{\\sum_{j=1}^N e^{x_j}}\n",
        "$$"
      ]
    },
    {
      "cell_type": "code",
      "execution_count": null,
      "metadata": {
        "id": "9HKVFpJJj9NC"
      },
      "outputs": [],
      "source": [
        "def softmax(x):\n",
        "  \"\"\"\n",
        "  input x is a vector representing the output of the last layer of a neural network\n",
        "  \"\"\"\n",
        "  return np.exp(x)/sum(np.exp(x))"
      ]
    },
    {
      "cell_type": "markdown",
      "metadata": {
        "id": "IgDgRtDelTWr"
      },
      "source": [
        "### **Exercise 7:** Pass the logits defined in Exercise 6 from the softmax function and plot the probability distribution over the labels."
      ]
    },
    {
      "cell_type": "markdown",
      "metadata": {
        "id": "xDsgAH1QgkB5"
      },
      "source": [
        "![](https://raw.githubusercontent.com/PyDataGBC/PyML2025/refs/heads/main/LabWeek3/assets/pass-softmax.png)"
      ]
    },
    {
      "cell_type": "code",
      "execution_count": 3,
      "metadata": {
        "id": "p4ph_f-KlqIp",
        "outputId": "c92f8182-e577-47d4-b75d-ad12a40705ba",
        "colab": {
          "base_uri": "https://localhost:8080/",
          "height": 472
        }
      },
      "outputs": [
        {
          "output_type": "display_data",
          "data": {
            "text/plain": [
              "<Figure size 640x480 with 1 Axes>"
            ],
            "image/png": "[encoded data removed]"
          },
          "metadata": {}
        }
      ],
      "source": [
        "import numpy as np\n",
        "import matplotlib.pyplot as plt\n",
        "\n",
        "# Define the softmax function\n",
        "def softmax(x):\n",
        "    exp_x = np.exp(x - np.max(x))  # For numerical stability, subtract max before exp\n",
        "    return exp_x / np.sum(exp_x)\n",
        "\n",
        "# Given logits from the last layer of the neural network\n",
        "logits = np.array([3.2, 1.3, 0.2, 0.8])\n",
        "\n",
        "# Apply the softmax function to the logits\n",
        "probs = softmax(logits)\n",
        "\n",
        "# Plot the probability distribution\n",
        "plt.bar(np.arange(len(probs)), probs, color='lightgreen')\n",
        "plt.xticks(np.arange(4), ['Class 1', 'Class 2', 'Class 3', 'Class 4'])\n",
        "plt.xlabel('Classes')\n",
        "plt.ylabel('Probability')\n",
        "plt.title('Softmax Probability Distribution Over Labels')\n",
        "plt.show()\n"
      ]
    },
    {
      "cell_type": "code",
      "execution_count": null,
      "metadata": {
        "colab": {
          "base_uri": "https://localhost:8080/",
          "height": 466
        },
        "id": "R3BIeRX3jfpM",
        "outputId": "8869c396-1868-442d-8e32-bf59cb3422ec"
      },
      "outputs": [
        {
          "name": "stdout",
          "output_type": "stream",
          "text": [
            "[0.77514955 0.11593805 0.03859242 0.07031998]\n",
            "sum of all probs:  1.0000000000000002\n"
          ]
        },
        {
          "data": {
            "image/png": "[encoded data removed]",
            "text/plain": [
              "<Figure size 640x480 with 1 Axes>"
            ]
          },
          "metadata": {},
          "output_type": "display_data"
        }
      ],
      "source": [
        "#my solution output"
      ]
    },
    {
      "cell_type": "markdown",
      "metadata": {
        "id": "T5Gnhpe4nZQo"
      },
      "source": [
        "### Exercise 8: Given the `probs` you calculated in the previous Exercise, find the predicted label using `np.argmax()` method."
      ]
    },
    {
      "cell_type": "code",
      "execution_count": null,
      "metadata": {
        "id": "Gd2Cv0Ran9ue"
      },
      "outputs": [],
      "source": [
        "# Probabilities from the previous exercise\n",
        "probs = np.array([0.77514955, 0.11593805, 0.03859242, 0.07031998])\n",
        "\n",
        "# Find the index of the maximum probability (predicted class)\n",
        "predicted_class = np.argmax(probs)\n",
        "\n",
        "# Output the predicted class\n",
        "print(\"Predicted class:\", predicted_class)\n"
      ]
    },
    {
      "cell_type": "markdown",
      "metadata": {
        "id": "-ZqsLloUmoXP"
      },
      "source": [
        "> **To summarize so far, the input to the neural network is, for example, an image, and the output is the probability distribution over the labels.**\n",
        "\n",
        "> **You can try [Google Teachable Machine](https://teachablemachine.withgoogle.com/train/image) to explore this concept further.**\n",
        "\n",
        "<img src=https://raw.githubusercontent.com/PyDataGBC/PyML2025/refs/heads/main/LabWeek3/assets/overal_logit-softmax.png height=\"650\" width=\"650\" >\n",
        "\n",
        "\n"
      ]
    },
    {
      "cell_type": "markdown",
      "metadata": {
        "id": "Lql9wyl25aZ_"
      },
      "source": [
        "In the next steps, we will train the neural network defined in step 1. By training the network, we optimize the weights between the neurons."
      ]
    },
    {
      "cell_type": "markdown",
      "metadata": {
        "id": "U0CrTPHfOiib"
      },
      "source": [
        "## **Step 2:** The compilation step"
      ]
    },
    {
      "cell_type": "code",
      "execution_count": null,
      "metadata": {
        "id": "KFJ3F19DOiib"
      },
      "outputs": [],
      "source": [
        "model.compile(optimizer=\"rmsprop\",\n",
        "              loss=\"sparse_categorical_crossentropy\",\n",
        "              metrics=[\"accuracy\"])"
      ]
    },
    {
      "cell_type": "markdown",
      "metadata": {
        "id": "L81NKZviOiic"
      },
      "source": [
        "## **Step 3:** \"Fitting\" the model"
      ]
    },
    {
      "cell_type": "code",
      "execution_count": null,
      "metadata": {
        "colab": {
          "base_uri": "https://localhost:8080/"
        },
        "id": "wskV0N2jOiic",
        "outputId": "38e8b0ab-78ef-40b4-fd67-6b15dadaa109"
      },
      "outputs": [
        {
          "name": "stdout",
          "output_type": "stream",
          "text": [
            "Epoch 1/5\n",
            "\u001b[1m469/469\u001b[0m \u001b[32m━━━━━━━━━━━━━━━━━━━━\u001b[0m\u001b[37m\u001b[0m \u001b[1m9s\u001b[0m 16ms/step - accuracy: 0.8736 - loss: 0.4464\n",
            "Epoch 2/5\n",
            "\u001b[1m469/469\u001b[0m \u001b[32m━━━━━━━━━━━━━━━━━━━━\u001b[0m\u001b[37m\u001b[0m \u001b[1m8s\u001b[0m 12ms/step - accuracy: 0.9649 - loss: 0.1159\n",
            "Epoch 3/5\n",
            "\u001b[1m469/469\u001b[0m \u001b[32m━━━━━━━━━━━━━━━━━━━━\u001b[0m\u001b[37m\u001b[0m \u001b[1m9s\u001b[0m 10ms/step - accuracy: 0.9793 - loss: 0.0678\n",
            "Epoch 4/5\n",
            "\u001b[1m469/469\u001b[0m \u001b[32m━━━━━━━━━━━━━━━━━━━━\u001b[0m\u001b[37m\u001b[0m \u001b[1m5s\u001b[0m 11ms/step - accuracy: 0.9846 - loss: 0.0515\n",
            "Epoch 5/5\n",
            "\u001b[1m469/469\u001b[0m \u001b[32m━━━━━━━━━━━━━━━━━━━━\u001b[0m\u001b[37m\u001b[0m \u001b[1m6s\u001b[0m 12ms/step - accuracy: 0.9888 - loss: 0.0380\n"
          ]
        },
        {
          "data": {
            "text/plain": [
              "<keras.src.callbacks.history.History at 0x7d7d68e47e10>"
            ]
          },
          "execution_count": 30,
          "metadata": {},
          "output_type": "execute_result"
        }
      ],
      "source": [
        ".fit(train_modelimages, train_labels, epochs=5, batch_size=128)"
      ]
    },
    {
      "cell_type": "markdown",
      "metadata": {
        "id": "MGRD8nxIOiic"
      },
      "source": [
        "## **Step 4:** Using the model to make predictions"
      ]
    },
    {
      "cell_type": "code",
      "execution_count": null,
      "metadata": {
        "colab": {
          "base_uri": "https://localhost:8080/"
        },
        "id": "fSCAAaomOiic",
        "outputId": "cdf95de0-16ce-421a-90bb-7aa410406ed2"
      },
      "outputs": [
        {
          "name": "stdout",
          "output_type": "stream",
          "text": [
            "\u001b[1m1/1\u001b[0m \u001b[32m━━━━━━━━━━━━━━━━━━━━\u001b[0m\u001b[37m\u001b[0m \u001b[1m0s\u001b[0m 53ms/step\n"
          ]
        },
        {
          "data": {
            "text/plain": [
              "array([[5.3813039e-08, 8.8339903e-08, 1.4601770e-05, 6.6420631e-03,\n",
              "        1.6605675e-11, 4.3978287e-07, 1.0941298e-11, 9.9332482e-01,\n",
              "        2.3918119e-06, 1.5561984e-05],\n",
              "       [6.4626519e-08, 4.8077818e-06, 9.9999309e-01, 1.1165381e-06,\n",
              "        1.8537705e-13, 4.7513544e-07, 8.0789547e-08, 4.5650110e-13,\n",
              "        2.0799199e-07, 9.8211294e-13],\n",
              "       [8.9335833e-07, 9.9923730e-01, 1.3652080e-04, 1.5359572e-05,\n",
              "        1.0737173e-04, 7.1584327e-06, 1.8019173e-05, 3.4408402e-04,\n",
              "        1.3106359e-04, 2.1893347e-06]], dtype=float32)"
            ]
          },
          "execution_count": 31,
          "metadata": {},
          "output_type": "execute_result"
        }
      ],
      "source": [
        "test_digits = test_images[:3] #predictiong the label of test_image[0] , test_image[1], test_image[2]\n",
        "predictions = model.predict(test_digits)\n",
        "predictions"
      ]
    },
    {
      "cell_type": "markdown",
      "metadata": {
        "id": "ihUfDp-cwMX1"
      },
      "source": [
        "### **Exercise 9:** Interpret the values in the `prediction`array.  "
      ]
    },
    {
      "cell_type": "markdown",
      "metadata": {
        "id": "VLQt6BaRwopn"
      },
      "source": [
        "your answer here:"
      ]
    },
    {
      "cell_type": "markdown",
      "metadata": {
        "id": "8wcYjgatpscn"
      },
      "source": [
        "### See the result for the prediction of the first image"
      ]
    },
    {
      "cell_type": "code",
      "execution_count": 4,
      "metadata": {
        "colab": {
          "base_uri": "https://localhost:8080/",
          "height": 176
        },
        "id": "PRoNum0vOiic",
        "outputId": "899a869a-f07d-41b0-e5a6-6e6ae36d16d4"
      },
      "outputs": [
        {
          "output_type": "error",
          "ename": "NameError",
          "evalue": "name 'predictions' is not defined",
          "traceback": [
            "\u001b[0;31m---------------------------------------------------------------------------\u001b[0m",
            "\u001b[0;31mNameError\u001b[0m                                 Traceback (most recent call last)",
            "\u001b[0;32m<ipython-input-4-701a50475146>\u001b[0m in \u001b[0;36m<cell line: 0>\u001b[0;34m()\u001b[0m\n\u001b[0;32m----> 1\u001b[0;31m \u001b[0mprint\u001b[0m\u001b[0;34m(\u001b[0m\u001b[0mpredictions\u001b[0m\u001b[0;34m[\u001b[0m\u001b[0;36m0\u001b[0m\u001b[0;34m]\u001b[0m\u001b[0;34m)\u001b[0m\u001b[0;34m\u001b[0m\u001b[0;34m\u001b[0m\u001b[0m\n\u001b[0m\u001b[1;32m      2\u001b[0m \u001b[0mpredicted_label\u001b[0m \u001b[0;34m=\u001b[0m \u001b[0mnp\u001b[0m\u001b[0;34m.\u001b[0m\u001b[0margmax\u001b[0m\u001b[0;34m(\u001b[0m\u001b[0mpredictions\u001b[0m\u001b[0;34m[\u001b[0m\u001b[0;36m0\u001b[0m\u001b[0;34m]\u001b[0m\u001b[0;34m)\u001b[0m\u001b[0;34m\u001b[0m\u001b[0;34m\u001b[0m\u001b[0m\n\u001b[1;32m      3\u001b[0m \u001b[0mprint\u001b[0m\u001b[0;34m(\u001b[0m\u001b[0;34m\"Predicted label: \"\u001b[0m\u001b[0;34m,\u001b[0m \u001b[0mpredicted_label\u001b[0m\u001b[0;34m)\u001b[0m\u001b[0;34m\u001b[0m\u001b[0;34m\u001b[0m\u001b[0m\n",
            "\u001b[0;31mNameError\u001b[0m: name 'predictions' is not defined"
          ]
        }
      ],
      "source": [
        "print(predictions[0])\n",
        "predicted_label = np.argmax(predictions[0])\n",
        "print(\"Predicted label: \", predicted_label)"
      ]
    },
    {
      "cell_type": "code",
      "execution_count": 5,
      "metadata": {
        "colab": {
          "base_uri": "https://localhost:8080/",
          "height": 141
        },
        "id": "_uMNt8RBOiic",
        "outputId": "83294c74-be3c-412c-ca8b-72a04fd407ab"
      },
      "outputs": [
        {
          "output_type": "error",
          "ename": "NameError",
          "evalue": "name 'predictions' is not defined",
          "traceback": [
            "\u001b[0;31m---------------------------------------------------------------------------\u001b[0m",
            "\u001b[0;31mNameError\u001b[0m                                 Traceback (most recent call last)",
            "\u001b[0;32m<ipython-input-5-1741aeacf7c9>\u001b[0m in \u001b[0;36m<cell line: 0>\u001b[0;34m()\u001b[0m\n\u001b[0;32m----> 1\u001b[0;31m \u001b[0mprint\u001b[0m\u001b[0;34m(\u001b[0m\u001b[0;34m\"highest prob: \"\u001b[0m\u001b[0;34m,\u001b[0m \u001b[0mpredictions\u001b[0m\u001b[0;34m[\u001b[0m\u001b[0;36m0\u001b[0m\u001b[0;34m]\u001b[0m\u001b[0;34m[\u001b[0m\u001b[0;36m7\u001b[0m\u001b[0;34m]\u001b[0m\u001b[0;34m)\u001b[0m\u001b[0;34m\u001b[0m\u001b[0;34m\u001b[0m\u001b[0m\n\u001b[0m",
            "\u001b[0;31mNameError\u001b[0m: name 'predictions' is not defined"
          ]
        }
      ],
      "source": [
        "print(\"highest prob: \", predictions[0][7])"
      ]
    },
    {
      "cell_type": "code",
      "execution_count": null,
      "metadata": {
        "id": "ZIohjja0Oiic"
      },
      "outputs": [],
      "source": [
        "true_label = test_labels[0]\n",
        "print(\"True label: \", true_label)"
      ]
    },
    {
      "cell_type": "code",
      "execution_count": null,
      "metadata": {
        "id": "v0BQGeFGyB0S"
      },
      "outputs": [],
      "source": [
        "# plt.bar(np.arange(10), predictions[0])\n",
        "sns.barplot(x=np.arange(10), y=predictions[0], hue=np.arange(10), palette='Set1', legend=False)\n",
        "plt.xticks(np.arange(10))\n",
        "plt.show()"
      ]
    },
    {
      "cell_type": "markdown",
      "metadata": {
        "id": "6Xg5zxooyXsT"
      },
      "source": [
        "> **So, the output distribution of the model is very close to our ideal distribution, which is [0, 0, 0, 0, 0, 0, 0, 1, 0, 0].**\n",
        "\n"
      ]
    },
    {
      "cell_type": "markdown",
      "metadata": {
        "id": "JZOuYKm7ujhX"
      },
      "source": [
        "### **Exercise 10:** Predict the label of the fourth element of the test set.\n",
        "\n",
        "**Important Note: Neural networks are designed to predict labels for a batch of data. For example, in the previous section, we predicted labels for a batch of four images, where the input shape was (4, 784). Similarly, when working with a single image, it must be fed into the network in the batch format with a shape of (1, 784).**"
      ]
    },
    {
      "cell_type": "code",
      "execution_count": null,
      "metadata": {
        "id": "I6IMdmOyvW2a"
      },
      "outputs": [],
      "source": [
        "# Extract the fourth image from the test set and reshape it\n",
        "test_image_4 = test_images[3].reshape(1, 28, 28)  # reshape to (1, 28, 28)\n",
        "\n",
        "# Make a prediction for the fourth image\n",
        "prediction = model.predict(test_image_4)\n",
        "\n",
        "# Find the predicted label (class) with the highest probability\n",
        "predicted_label = np.argmax(prediction)\n",
        "\n",
        "# Print the predicted label\n",
        "print(f\"The predicted label for the fourth test image is: {predicted_label}\")\n"
      ]
    },
    {
      "cell_type": "markdown",
      "metadata": {
        "id": "PP970c2wOiic"
      },
      "source": [
        "## **Step 5:** Evaluating the model on new data"
      ]
    },
    {
      "cell_type": "code",
      "execution_count": null,
      "metadata": {
        "colab": {
          "base_uri": "https://localhost:8080/"
        },
        "id": "sqtlOxVsOiic",
        "outputId": "3e50fcfe-c24c-4782-f326-ce90a6206f7d"
      },
      "outputs": [
        {
          "name": "stdout",
          "output_type": "stream",
          "text": [
            "\u001b[1m313/313\u001b[0m \u001b[32m━━━━━━━━━━━━━━━━━━━━\u001b[0m\u001b[37m\u001b[0m \u001b[1m1s\u001b[0m 2ms/step - accuracy: 0.9776 - loss: 0.0736\n",
            "test_acc: 0.9807999730110168\n"
          ]
        }
      ],
      "source": [
        "test_loss, test_acc = model.evaluate(test_images, test_labels)\n",
        "print(f\"test_acc: {test_acc}\")"
      ]
    },
    {
      "cell_type": "markdown",
      "metadata": {
        "id": "wV2CcxlmxFUC"
      },
      "source": [
        "**Note:** We will discuss `optimizer`, `loss`, `epoch`, and `batch` in more depth in the coming weeks."
      ]
    }
  ],
  "metadata": {
    "colab": {
      "provenance": []
    },
    "kernelspec": {
      "display_name": "Python 3",
      "language": "python",
      "name": "python3"
    },
    "language_info": {
      "codemirror_mode": {
        "name": "ipython",
        "version": 3
      },
      "file_extension": ".py",
      "mimetype": "text/x-python",
      "name": "python",
      "nbconvert_exporter": "python",
      "pygments_lexer": "ipython3",
      "version": "3.7.0"
    }
  },
  "nbformat": 4,
  "nbformat_minor": 0
}